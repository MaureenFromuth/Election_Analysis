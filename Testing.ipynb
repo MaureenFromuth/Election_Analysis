{
 "cells": [
  {
   "cell_type": "code",
   "execution_count": null,
   "metadata": {},
   "outputs": [],
   "source": [
    "# Initial variable to track game play\n",
    "user_play = \"y\"\n",
    "# While we are still playing...\n",
    "while user_play == \"y\":\n",
    "    user_numbers = int(input(\"How many numbers?\"))\n",
    "    for number in range(user_numbers):\n",
    "        print(number) \n",
    "    user_play = input(\"Do you want to continue: (y)es or (n)o)\")"
   ]
  }
 ],
 "metadata": {
  "kernelspec": {
   "display_name": "Python 3",
   "language": "python",
   "name": "python3"
  },
  "language_info": {
   "codemirror_mode": {
    "name": "ipython",
    "version": 3
   },
   "file_extension": ".py",
   "mimetype": "text/x-python",
   "name": "python",
   "nbconvert_exporter": "python",
   "pygments_lexer": "ipython3",
   "version": "3.8.3"
  }
 },
 "nbformat": 4,
 "nbformat_minor": 4
}
